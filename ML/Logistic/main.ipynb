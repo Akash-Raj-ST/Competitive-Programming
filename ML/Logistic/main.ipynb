{
 "cells": [
  {
   "cell_type": "code",
   "execution_count": 2,
   "metadata": {},
   "outputs": [
    {
     "name": "stdout",
     "output_type": "stream",
     "text": [
      "[[1, 1, 1, 0, 1, 1, 1], [1, 0, 0, 1, 1, 0, 0], [1, 0, 1, 1, 1, 0, 1], [1, 1, 0, 0, 1, 0, 0], [1, 1, 0, 1, 0, 1, 1], [1, 1, 0, 1, 1, 0, 0]]\n",
      "6 6\n"
     ]
    }
   ],
   "source": [
    "import pandas as pd\n",
    "import math\n",
    "\n",
    "df = pd.read_csv(\"data.csv\")\n",
    "\n",
    "data_set = df.values.tolist()\n",
    "print(data_set)\n",
    "dimension = df.shape\n",
    "variables = dimension[1]-1\n",
    "elements = dimension[0]\n",
    "print(variables,elements)\n"
   ]
  },
  {
   "cell_type": "code",
   "execution_count": 61,
   "metadata": {},
   "outputs": [
    {
     "data": {
      "text/plain": [
       "[0, 0, 0, 0, 0, 0]"
      ]
     },
     "execution_count": 61,
     "metadata": {},
     "output_type": "execute_result"
    }
   ],
   "source": [
    "#intital theta\n",
    "\n",
    "theta = [0 for i in range(variables)]\n",
    "alpha = 0.9\n",
    "predicted = []\n",
    "y = df[\"y\"].values.tolist()\n",
    "theta"
   ]
  },
  {
   "cell_type": "code",
   "execution_count": 4,
   "metadata": {},
   "outputs": [],
   "source": [
    "def h_theta(j):\n",
    "    x_arr = df.iloc[[j]]\n",
    "    x_arr = x_arr.values.tolist()[0]\n",
    "    value = 0\n",
    "    for i in range(variables):\n",
    "        value += theta[i]*x_arr[i]\n",
    "    return 1/(1+math.pow(math.e,-1*value))\n"
   ]
  },
  {
   "cell_type": "code",
   "execution_count": 5,
   "metadata": {},
   "outputs": [],
   "source": [
    "def cost_function():\n",
    "    sum = 0\n",
    "\n",
    "    for i in range(elements):\n",
    "        value = h_theta(i)\n",
    "        sum += y[i]*math.log(value)+(1-y[i])*math.log(1-value)\n",
    "    \n",
    "    return -1*sum/elements"
   ]
  },
  {
   "cell_type": "code",
   "execution_count": 6,
   "metadata": {},
   "outputs": [],
   "source": [
    "def gradient_descent():\n",
    "\n",
    "    for i in range(variables):\n",
    "        sum = 0\n",
    "        for j in range(elements):\n",
    "            sum += (h_theta(j)-y[j])*data_set[j][i]\n",
    "        theta[i] = theta[i]-(alpha*sum)\n"
   ]
  },
  {
   "cell_type": "code",
   "execution_count": 77,
   "metadata": {},
   "outputs": [
    {
     "name": "stdout",
     "output_type": "stream",
     "text": [
      "[0.34189368532370756, -0.7587830001477867, 4.552701591632641, 0.20816066961234148, -2.9061965367892406, 3.158577019781771]\n",
      "0.056364610544415016\n"
     ]
    }
   ],
   "source": [
    "#theta = [0 for x in range(variables)]\n",
    "gradient_descent()\n",
    "\n",
    "print(theta)\n",
    "print(cost_function())\n"
   ]
  }
 ],
 "metadata": {
  "kernelspec": {
   "display_name": "Python 3.9.0 64-bit",
   "language": "python",
   "name": "python3"
  },
  "language_info": {
   "codemirror_mode": {
    "name": "ipython",
    "version": 3
   },
   "file_extension": ".py",
   "mimetype": "text/x-python",
   "name": "python",
   "nbconvert_exporter": "python",
   "pygments_lexer": "ipython3",
   "version": "3.9.0"
  },
  "orig_nbformat": 4,
  "vscode": {
   "interpreter": {
    "hash": "8bd2466231e41ed14114f2b409d9719ddb015392667fe5003083bc13ae641016"
   }
  }
 },
 "nbformat": 4,
 "nbformat_minor": 2
}
