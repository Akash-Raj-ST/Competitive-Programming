{
  "cells": [
    {
      "cell_type": "markdown",
      "metadata": {
        "_uuid": "0702a77c16d0a114103ef3127c1cdc2417ca0b05",
        "id": "GZAc7QYN5JlK"
      },
      "source": [
        "Q1\n"
      ]
    },
    {
      "cell_type": "code",
      "execution_count": null,
      "metadata": {
        "_cell_guid": "b1076dfc-b9ad-4769-8c92-a6c4dae69d19",
        "_uuid": "8f2839f25d086af736a60e9eeb907d3b93b6e0e5",
        "id": "Gn-jTLaX5JlN"
      },
      "outputs": [],
      "source": [
        "import pandas as pd                  \n",
        "import numpy as np                   \n",
        "import matplotlib.pyplot as plt      \n",
        "from sklearn.metrics import classification_report, confusion_matrix  \n",
        "from sklearn.model_selection import train_test_split   "
      ]
    },
    {
      "cell_type": "code",
      "execution_count": null,
      "metadata": {
        "colab": {
          "base_uri": "https://localhost:8080/"
        },
        "id": "-BZeXkt99cgJ",
        "outputId": "d4bd649a-31ad-487c-fab4-c105fdcfa4be"
      },
      "outputs": [
        {
          "name": "stdout",
          "output_type": "stream",
          "text": [
            "Mounted at /content/gdrive\n"
          ]
        }
      ],
      "source": [
        "from google.colab import drive\n",
        "drive.mount('/content/gdrive')"
      ]
    },
    {
      "cell_type": "code",
      "execution_count": null,
      "metadata": {
        "colab": {
          "base_uri": "https://localhost:8080/"
        },
        "id": "Wivb_Lf09q2B",
        "outputId": "684f750b-adb9-4e5b-cc98-15bf9c1b4b47"
      },
      "outputs": [
        {
          "name": "stdout",
          "output_type": "stream",
          "text": [
            "/content/gdrive/My Drive/CSE4020_ML/Lab-4\n"
          ]
        }
      ],
      "source": [
        "cd /content/gdrive/My Drive/CSE4020_ML/Lab-4"
      ]
    },
    {
      "cell_type": "code",
      "execution_count": null,
      "metadata": {
        "_cell_guid": "79c7e3d0-c299-4dcb-8224-4455121ee9b0",
        "_uuid": "d629ff2d2480ee46fbb7e2d37f6b5fab8052498a",
        "id": "3T9_ynUs5JlO"
      },
      "outputs": [],
      "source": [
        "df = pd.read_csv('email.csv')   "
      ]
    },
    {
      "cell_type": "code",
      "execution_count": null,
      "metadata": {
        "_uuid": "38509431645e58e1a362f627ba0a7bd403d52efd",
        "colab": {
          "base_uri": "https://localhost:8080/",
          "height": 206
        },
        "id": "vNLsrUg05JlO",
        "outputId": "32aa64d6-0d30-41f6-8ac8-25b092726bb5",
        "scrolled": true
      },
      "outputs": [
        {
          "data": {
            "text/html": [
              "\n",
              "  <div id=\"df-f9a0b563-5367-4e3c-aa96-48f7a10752ba\">\n",
              "    <div class=\"colab-df-container\">\n",
              "      <div>\n",
              "<style scoped>\n",
              "    .dataframe tbody tr th:only-of-type {\n",
              "        vertical-align: middle;\n",
              "    }\n",
              "\n",
              "    .dataframe tbody tr th {\n",
              "        vertical-align: top;\n",
              "    }\n",
              "\n",
              "    .dataframe thead th {\n",
              "        text-align: right;\n",
              "    }\n",
              "</style>\n",
              "<table border=\"1\" class=\"dataframe\">\n",
              "  <thead>\n",
              "    <tr style=\"text-align: right;\">\n",
              "      <th></th>\n",
              "      <th>x0</th>\n",
              "      <th>x1</th>\n",
              "      <th>x2</th>\n",
              "      <th>x3</th>\n",
              "      <th>x4</th>\n",
              "      <th>x5</th>\n",
              "      <th>class</th>\n",
              "    </tr>\n",
              "  </thead>\n",
              "  <tbody>\n",
              "    <tr>\n",
              "      <th>0</th>\n",
              "      <td>1</td>\n",
              "      <td>1</td>\n",
              "      <td>1</td>\n",
              "      <td>0</td>\n",
              "      <td>1</td>\n",
              "      <td>1</td>\n",
              "      <td>1</td>\n",
              "    </tr>\n",
              "    <tr>\n",
              "      <th>1</th>\n",
              "      <td>1</td>\n",
              "      <td>0</td>\n",
              "      <td>0</td>\n",
              "      <td>1</td>\n",
              "      <td>1</td>\n",
              "      <td>0</td>\n",
              "      <td>0</td>\n",
              "    </tr>\n",
              "    <tr>\n",
              "      <th>2</th>\n",
              "      <td>1</td>\n",
              "      <td>0</td>\n",
              "      <td>1</td>\n",
              "      <td>1</td>\n",
              "      <td>0</td>\n",
              "      <td>0</td>\n",
              "      <td>1</td>\n",
              "    </tr>\n",
              "    <tr>\n",
              "      <th>3</th>\n",
              "      <td>1</td>\n",
              "      <td>1</td>\n",
              "      <td>0</td>\n",
              "      <td>0</td>\n",
              "      <td>1</td>\n",
              "      <td>0</td>\n",
              "      <td>0</td>\n",
              "    </tr>\n",
              "    <tr>\n",
              "      <th>4</th>\n",
              "      <td>1</td>\n",
              "      <td>1</td>\n",
              "      <td>0</td>\n",
              "      <td>1</td>\n",
              "      <td>0</td>\n",
              "      <td>1</td>\n",
              "      <td>1</td>\n",
              "    </tr>\n",
              "  </tbody>\n",
              "</table>\n",
              "</div>\n",
              "      <button class=\"colab-df-convert\" onclick=\"convertToInteractive('df-f9a0b563-5367-4e3c-aa96-48f7a10752ba')\"\n",
              "              title=\"Convert this dataframe to an interactive table.\"\n",
              "              style=\"display:none;\">\n",
              "        \n",
              "  <svg xmlns=\"http://www.w3.org/2000/svg\" height=\"24px\"viewBox=\"0 0 24 24\"\n",
              "       width=\"24px\">\n",
              "    <path d=\"M0 0h24v24H0V0z\" fill=\"none\"/>\n",
              "    <path d=\"M18.56 5.44l.94 2.06.94-2.06 2.06-.94-2.06-.94-.94-2.06-.94 2.06-2.06.94zm-11 1L8.5 8.5l.94-2.06 2.06-.94-2.06-.94L8.5 2.5l-.94 2.06-2.06.94zm10 10l.94 2.06.94-2.06 2.06-.94-2.06-.94-.94-2.06-.94 2.06-2.06.94z\"/><path d=\"M17.41 7.96l-1.37-1.37c-.4-.4-.92-.59-1.43-.59-.52 0-1.04.2-1.43.59L10.3 9.45l-7.72 7.72c-.78.78-.78 2.05 0 2.83L4 21.41c.39.39.9.59 1.41.59.51 0 1.02-.2 1.41-.59l7.78-7.78 2.81-2.81c.8-.78.8-2.07 0-2.86zM5.41 20L4 18.59l7.72-7.72 1.47 1.35L5.41 20z\"/>\n",
              "  </svg>\n",
              "      </button>\n",
              "      \n",
              "  <style>\n",
              "    .colab-df-container {\n",
              "      display:flex;\n",
              "      flex-wrap:wrap;\n",
              "      gap: 12px;\n",
              "    }\n",
              "\n",
              "    .colab-df-convert {\n",
              "      background-color: #E8F0FE;\n",
              "      border: none;\n",
              "      border-radius: 50%;\n",
              "      cursor: pointer;\n",
              "      display: none;\n",
              "      fill: #1967D2;\n",
              "      height: 32px;\n",
              "      padding: 0 0 0 0;\n",
              "      width: 32px;\n",
              "    }\n",
              "\n",
              "    .colab-df-convert:hover {\n",
              "      background-color: #E2EBFA;\n",
              "      box-shadow: 0px 1px 2px rgba(60, 64, 67, 0.3), 0px 1px 3px 1px rgba(60, 64, 67, 0.15);\n",
              "      fill: #174EA6;\n",
              "    }\n",
              "\n",
              "    [theme=dark] .colab-df-convert {\n",
              "      background-color: #3B4455;\n",
              "      fill: #D2E3FC;\n",
              "    }\n",
              "\n",
              "    [theme=dark] .colab-df-convert:hover {\n",
              "      background-color: #434B5C;\n",
              "      box-shadow: 0px 1px 3px 1px rgba(0, 0, 0, 0.15);\n",
              "      filter: drop-shadow(0px 1px 2px rgba(0, 0, 0, 0.3));\n",
              "      fill: #FFFFFF;\n",
              "    }\n",
              "  </style>\n",
              "\n",
              "      <script>\n",
              "        const buttonEl =\n",
              "          document.querySelector('#df-f9a0b563-5367-4e3c-aa96-48f7a10752ba button.colab-df-convert');\n",
              "        buttonEl.style.display =\n",
              "          google.colab.kernel.accessAllowed ? 'block' : 'none';\n",
              "\n",
              "        async function convertToInteractive(key) {\n",
              "          const element = document.querySelector('#df-f9a0b563-5367-4e3c-aa96-48f7a10752ba');\n",
              "          const dataTable =\n",
              "            await google.colab.kernel.invokeFunction('convertToInteractive',\n",
              "                                                     [key], {});\n",
              "          if (!dataTable) return;\n",
              "\n",
              "          const docLinkHtml = 'Like what you see? Visit the ' +\n",
              "            '<a target=\"_blank\" href=https://colab.research.google.com/notebooks/data_table.ipynb>data table notebook</a>'\n",
              "            + ' to learn more about interactive tables.';\n",
              "          element.innerHTML = '';\n",
              "          dataTable['output_type'] = 'display_data';\n",
              "          await google.colab.output.renderOutput(dataTable, element);\n",
              "          const docLink = document.createElement('div');\n",
              "          docLink.innerHTML = docLinkHtml;\n",
              "          element.appendChild(docLink);\n",
              "        }\n",
              "      </script>\n",
              "    </div>\n",
              "  </div>\n",
              "  "
            ],
            "text/plain": [
              "   x0  x1  x2  x3  x4  x5  class\n",
              "0   1   1   1   0   1   1      1\n",
              "1   1   0   0   1   1   0      0\n",
              "2   1   0   1   1   0   0      1\n",
              "3   1   1   0   0   1   0      0\n",
              "4   1   1   0   1   0   1      1"
            ]
          },
          "execution_count": 5,
          "metadata": {},
          "output_type": "execute_result"
        }
      ],
      "source": [
        "df.head()   "
      ]
    },
    {
      "cell_type": "code",
      "execution_count": null,
      "metadata": {
        "_uuid": "91a5d254d24cc38e1d5a65e230dbe697d1f93203",
        "colab": {
          "base_uri": "https://localhost:8080/"
        },
        "id": "GamQejT35JlP",
        "outputId": "39f1dfed-15d4-4c73-ade2-4dbaee5a3b25"
      },
      "outputs": [
        {
          "data": {
            "text/plain": [
              "1    3\n",
              "0    3\n",
              "Name: class, dtype: int64"
            ]
          },
          "execution_count": 6,
          "metadata": {},
          "output_type": "execute_result"
        }
      ],
      "source": [
        "df['class'].value_counts()    "
      ]
    },
    {
      "cell_type": "code",
      "execution_count": null,
      "metadata": {
        "_uuid": "f57b5fb23f0fe32335069dd33087547d86a95700",
        "colab": {
          "base_uri": "https://localhost:8080/"
        },
        "id": "ZPmVPYWA5JlR",
        "outputId": "5fd3a5fb-85d5-484f-a2a1-c969ff813dfa"
      },
      "outputs": [
        {
          "data": {
            "text/plain": [
              "Index(['x0', 'x1', 'x2', 'x3', 'x4', 'x5', 'class'], dtype='object')"
            ]
          },
          "execution_count": 7,
          "metadata": {},
          "output_type": "execute_result"
        }
      ],
      "source": [
        "df.columns               "
      ]
    },
    {
      "cell_type": "code",
      "execution_count": null,
      "metadata": {
        "_uuid": "7390e61e0c466a3bf27f15356909afda1dd734cf",
        "colab": {
          "base_uri": "https://localhost:8080/"
        },
        "id": "s6anQX825JlU",
        "outputId": "b9b463fc-2859-49ae-b2c0-209b9b624c5f"
      },
      "outputs": [
        {
          "name": "stdout",
          "output_type": "stream",
          "text": [
            "The shape of the input is (6, 6)\n",
            "The shape of the output is (6, 1)\n"
          ]
        },
        {
          "name": "stderr",
          "output_type": "stream",
          "text": [
            "/usr/local/lib/python3.7/dist-packages/ipykernel_launcher.py:5: FutureWarning: Support for multi-dimensional indexing (e.g. `obj[:, None]`) is deprecated and will be removed in a future version.  Convert to a numpy array before indexing instead.\n",
            "  \"\"\"\n"
          ]
        }
      ],
      "source": [
        "X = df.drop(['class'], axis = 1)      #here, we would take all the columns except 'class' as input vector\n",
        "y = df['class']                       #here, we are taking the output as the 'class' column in our dataset\n",
        "ynewtest = y\n",
        "xnewtest = X\n",
        "y = y[:, np.newaxis]                   #converting the output to an array \n",
        "print('The shape of the input is {}'.format(X.shape))     #printing the shape of the input\n",
        "print('The shape of the output is {}'.format(y.shape))    #printing the shape of the output"
      ]
    },
    {
      "cell_type": "markdown",
      "metadata": {
        "_uuid": "c3d8dd7d4b06695ef98a6f3cc6fea288f6a936f5",
        "id": "Z45ejReJ5JlU"
      },
      "source": [
        "Below, we would be dividing the giving input and output values into 2 sets namely the training set and the test set. We use the training set to train the model and tune the hyperparameters so that it would be efficient in the test set. In the test set, we would be measuring the accuracy of the trained model."
      ]
    },
    {
      "cell_type": "code",
      "execution_count": null,
      "metadata": {
        "_uuid": "1672079b573bd93195078139a9869ce20147cc36",
        "colab": {
          "base_uri": "https://localhost:8080/",
          "height": 143
        },
        "id": "9S3Y8KlN5JlV",
        "outputId": "99409df0-5e8f-4213-c63a-e0b897d27b7e"
      },
      "outputs": [
        {
          "data": {
            "text/html": [
              "\n",
              "  <div id=\"df-cf0c7f45-d32b-4231-b814-ddfbf7c03bec\">\n",
              "    <div class=\"colab-df-container\">\n",
              "      <div>\n",
              "<style scoped>\n",
              "    .dataframe tbody tr th:only-of-type {\n",
              "        vertical-align: middle;\n",
              "    }\n",
              "\n",
              "    .dataframe tbody tr th {\n",
              "        vertical-align: top;\n",
              "    }\n",
              "\n",
              "    .dataframe thead th {\n",
              "        text-align: right;\n",
              "    }\n",
              "</style>\n",
              "<table border=\"1\" class=\"dataframe\">\n",
              "  <thead>\n",
              "    <tr style=\"text-align: right;\">\n",
              "      <th></th>\n",
              "      <th>x0</th>\n",
              "      <th>x1</th>\n",
              "      <th>x2</th>\n",
              "      <th>x3</th>\n",
              "      <th>x4</th>\n",
              "      <th>x5</th>\n",
              "    </tr>\n",
              "  </thead>\n",
              "  <tbody>\n",
              "    <tr>\n",
              "      <th>0</th>\n",
              "      <td>1</td>\n",
              "      <td>0</td>\n",
              "      <td>1</td>\n",
              "      <td>0</td>\n",
              "      <td>1</td>\n",
              "      <td>1</td>\n",
              "    </tr>\n",
              "    <tr>\n",
              "      <th>1</th>\n",
              "      <td>1</td>\n",
              "      <td>1</td>\n",
              "      <td>1</td>\n",
              "      <td>1</td>\n",
              "      <td>0</td>\n",
              "      <td>0</td>\n",
              "    </tr>\n",
              "    <tr>\n",
              "      <th>2</th>\n",
              "      <td>0</td>\n",
              "      <td>0</td>\n",
              "      <td>0</td>\n",
              "      <td>0</td>\n",
              "      <td>0</td>\n",
              "      <td>1</td>\n",
              "    </tr>\n",
              "  </tbody>\n",
              "</table>\n",
              "</div>\n",
              "      <button class=\"colab-df-convert\" onclick=\"convertToInteractive('df-cf0c7f45-d32b-4231-b814-ddfbf7c03bec')\"\n",
              "              title=\"Convert this dataframe to an interactive table.\"\n",
              "              style=\"display:none;\">\n",
              "        \n",
              "  <svg xmlns=\"http://www.w3.org/2000/svg\" height=\"24px\"viewBox=\"0 0 24 24\"\n",
              "       width=\"24px\">\n",
              "    <path d=\"M0 0h24v24H0V0z\" fill=\"none\"/>\n",
              "    <path d=\"M18.56 5.44l.94 2.06.94-2.06 2.06-.94-2.06-.94-.94-2.06-.94 2.06-2.06.94zm-11 1L8.5 8.5l.94-2.06 2.06-.94-2.06-.94L8.5 2.5l-.94 2.06-2.06.94zm10 10l.94 2.06.94-2.06 2.06-.94-2.06-.94-.94-2.06-.94 2.06-2.06.94z\"/><path d=\"M17.41 7.96l-1.37-1.37c-.4-.4-.92-.59-1.43-.59-.52 0-1.04.2-1.43.59L10.3 9.45l-7.72 7.72c-.78.78-.78 2.05 0 2.83L4 21.41c.39.39.9.59 1.41.59.51 0 1.02-.2 1.41-.59l7.78-7.78 2.81-2.81c.8-.78.8-2.07 0-2.86zM5.41 20L4 18.59l7.72-7.72 1.47 1.35L5.41 20z\"/>\n",
              "  </svg>\n",
              "      </button>\n",
              "      \n",
              "  <style>\n",
              "    .colab-df-container {\n",
              "      display:flex;\n",
              "      flex-wrap:wrap;\n",
              "      gap: 12px;\n",
              "    }\n",
              "\n",
              "    .colab-df-convert {\n",
              "      background-color: #E8F0FE;\n",
              "      border: none;\n",
              "      border-radius: 50%;\n",
              "      cursor: pointer;\n",
              "      display: none;\n",
              "      fill: #1967D2;\n",
              "      height: 32px;\n",
              "      padding: 0 0 0 0;\n",
              "      width: 32px;\n",
              "    }\n",
              "\n",
              "    .colab-df-convert:hover {\n",
              "      background-color: #E2EBFA;\n",
              "      box-shadow: 0px 1px 2px rgba(60, 64, 67, 0.3), 0px 1px 3px 1px rgba(60, 64, 67, 0.15);\n",
              "      fill: #174EA6;\n",
              "    }\n",
              "\n",
              "    [theme=dark] .colab-df-convert {\n",
              "      background-color: #3B4455;\n",
              "      fill: #D2E3FC;\n",
              "    }\n",
              "\n",
              "    [theme=dark] .colab-df-convert:hover {\n",
              "      background-color: #434B5C;\n",
              "      box-shadow: 0px 1px 3px 1px rgba(0, 0, 0, 0.15);\n",
              "      filter: drop-shadow(0px 1px 2px rgba(0, 0, 0, 0.3));\n",
              "      fill: #FFFFFF;\n",
              "    }\n",
              "  </style>\n",
              "\n",
              "      <script>\n",
              "        const buttonEl =\n",
              "          document.querySelector('#df-cf0c7f45-d32b-4231-b814-ddfbf7c03bec button.colab-df-convert');\n",
              "        buttonEl.style.display =\n",
              "          google.colab.kernel.accessAllowed ? 'block' : 'none';\n",
              "\n",
              "        async function convertToInteractive(key) {\n",
              "          const element = document.querySelector('#df-cf0c7f45-d32b-4231-b814-ddfbf7c03bec');\n",
              "          const dataTable =\n",
              "            await google.colab.kernel.invokeFunction('convertToInteractive',\n",
              "                                                     [key], {});\n",
              "          if (!dataTable) return;\n",
              "\n",
              "          const docLinkHtml = 'Like what you see? Visit the ' +\n",
              "            '<a target=\"_blank\" href=https://colab.research.google.com/notebooks/data_table.ipynb>data table notebook</a>'\n",
              "            + ' to learn more about interactive tables.';\n",
              "          element.innerHTML = '';\n",
              "          dataTable['output_type'] = 'display_data';\n",
              "          await google.colab.output.renderOutput(dataTable, element);\n",
              "          const docLink = document.createElement('div');\n",
              "          docLink.innerHTML = docLinkHtml;\n",
              "          element.appendChild(docLink);\n",
              "        }\n",
              "      </script>\n",
              "    </div>\n",
              "  </div>\n",
              "  "
            ],
            "text/plain": [
              "   x0  x1  x2  x3  x4  x5\n",
              "0   1   0   1   0   1   1\n",
              "1   1   1   1   1   0   0\n",
              "2   0   0   0   0   0   1"
            ]
          },
          "execution_count": 9,
          "metadata": {},
          "output_type": "execute_result"
        }
      ],
      "source": [
        "# initialize list of lists\n",
        "data = [[1 , 0 , 1, 0, 1, 1 ], [1 , 1 , 1, 1, 0, 0  ], [0 , 0 , 0, 0, 0, 1 ]]\n",
        "  \n",
        "# Create the pandas DataFrame\n",
        "X_test_data = pd.DataFrame(data, columns=['x0', 'x1','x2','x3','x4','x5'])\n",
        "  \n",
        "# print dataframe.\n",
        "X_test_data"
      ]
    },
    {
      "cell_type": "code",
      "execution_count": null,
      "metadata": {
        "_uuid": "9bb77ecc7e1d6b11a46131ff93160025dfba1ffe",
        "colab": {
          "base_uri": "https://localhost:8080/"
        },
        "id": "j6iY2FGo5JlV",
        "outputId": "7ae35353-f5e1-46c0-80b0-81ed27d7e49c"
      },
      "outputs": [
        {
          "name": "stdout",
          "output_type": "stream",
          "text": [
            "The shape of the input testing set is (3, 6)\n",
            "The shape of the output testing set is (3, 1)\n"
          ]
        }
      ],
      "source": [
        "d1 = [[1],[1],[0]]\n",
        "# Create the pandas DataFrame\n",
        "y_test_data = pd.DataFrame(d1, columns=['spam or not spam'])\n",
        "  \n",
        "# print dataframe.\n",
        "y_test_data\n",
        "print('The shape of the input testing set is {}'.format(X_test_data.shape))\n",
        "print('The shape of the output testing set is {}'.format(y_test_data.shape))"
      ]
    },
    {
      "cell_type": "code",
      "execution_count": null,
      "metadata": {
        "_uuid": "6eac882652f0ebbc2f739b03329c363b8e866dc1",
        "id": "tZ2rroe35JlW"
      },
      "outputs": [],
      "source": [
        "#We are initially defining the sigmoid function that could be used later\n",
        "def sigmoid(z):\n",
        "    \n",
        "    sigmoid = 1 / (1 + np.exp(-z))\n",
        "    \n",
        "    return sigmoid"
      ]
    },
    {
      "cell_type": "code",
      "execution_count": null,
      "metadata": {
        "_uuid": "9949ac22d490b2536fbe26ccf7cb0861ce48d31e",
        "id": "dYeQqB4O5JlW"
      },
      "outputs": [],
      "source": [
        "#This is a function that is used to initialize the weights with 0 and biases also with 0 and return them\n",
        "def initialize_with_zeros(dim):\n",
        "    weight = np.zeros((dim, 1))\n",
        "    bias = 0\n",
        "    return weight, bias"
      ]
    },
    {
      "cell_type": "code",
      "execution_count": null,
      "metadata": {
        "_uuid": "2c4b650283d537b93de8136b440c58be4ac3df96",
        "id": "Wf4y-5on5JlX"
      },
      "outputs": [],
      "source": [
        "#this network ensures that there is a forward propagation and at the same time, returns the cost\n",
        "def propagate(w, X, y):\n",
        "    \n",
        "    m = X.shape[0]\n",
        "    A = sigmoid(np.dot(X, w))\n",
        "    cost = -(1 / m) * np.sum(y * np.log(A) + (1 - y) * np.log(1 - A)) #computing the cost function or the error function\n",
        "    dw = (1 / m) * np.dot(X.T, (A - y))   #this is derivative of the cost function with respect to w\n",
        "    grads = {'dw': dw\n",
        "             #,it is stored in this format 'db': db\n",
        "             }          #these values are stored in a dictionary so as to access them later\n",
        "    return grads, cost \n"
      ]
    },
    {
      "cell_type": "code",
      "execution_count": null,
      "metadata": {
        "_uuid": "f2599920d577f0024b5e1a8a569dbc18f291fab8",
        "id": "4wfCAJkU5JlX"
      },
      "outputs": [],
      "source": [
        "#We are trying to get the parameters w and b after modifying them using the knowledge of the cost function\n",
        "def optimize(weight, X, y, num_iterations, learning_rate, print_cost = False):\n",
        "    costs = []                    #This is an empty list created so that it stores all the values later\n",
        "    for i in range(num_iterations):\n",
        "        grads, cost = propagate(weight, X, y)       #we are calling the previously defined function \n",
        "        dw = grads['dw']                          #we are accessing the derivatives of cost with respect to w\n",
        "        weight = weight - learning_rate * dw                #we are modifying the parameter w so that the cost would reduce in the long run\n",
        "        np.squeeze(cost)\n",
        "        if i % 100 == 0:\n",
        "            costs.append(cost)                    #we are giving all the cost values to the empty list that was created initially\n",
        "        if print_cost and i % 1000 == 0:\n",
        "            print(\"cost after iteration {}: {}\".format(i, cost))\n",
        "    plt.plot(np.squeeze(costs))\n",
        "    plt.ylabel('cost')\n",
        "    plt.xlabel('iterations (per tens)')\n",
        "    plt.title(\"Learning rate = \" + str(learning_rate))\n",
        "    plt.show()\n",
        "    params = {'weight': weight\n",
        "             # , 'b': db\n",
        "              }                    #we are storing this value in the dictionary so that it could be accessed later\n",
        "    grads = {'dw': dw\n",
        "             #, 'db': db\n",
        "             }                  #we are storing these valeus in the dictionary so that they could be accessed later\n",
        "    return params, grads, costs"
      ]
    },
    {
      "cell_type": "code",
      "execution_count": null,
      "metadata": {
        "_uuid": "37e3abcfad507cd47f9d648ed112ed82b5d35790",
        "id": "LlM7gt__5JlX"
      },
      "outputs": [],
      "source": [
        "#This is a function that gives 1 if the activation is greater that 0.5 and 0 if it is lower than 0\n",
        "def predict(weight, X):\n",
        "    m = X.shape[0]\n",
        "    y_prediction = np.zeros((m, 1))\n",
        "    A = sigmoid(np.dot(X, weight))\n",
        "    for i in range(A.shape[0]):\n",
        "        if (A[i, 0] <= 0.5):\n",
        "            y_prediction[i, 0] = 0\n",
        "        else:\n",
        "            y_prediction[i, 0] = 1\n",
        "            \n",
        "    return y_prediction"
      ]
    },
    {
      "cell_type": "code",
      "execution_count": null,
      "metadata": {
        "_uuid": "bdc8bf0d68cb648d69e9c0ac71af6812c76415c7",
        "id": "IJeeZn2a5JlY"
      },
      "outputs": [],
      "source": [
        "def model(X_train, X_test, y_train, y_test_data, num_iterations, learning_rate, print_cost = True):\n",
        "    weight, b = initialize_with_zeros(X.shape[1])\n",
        "    parameters, grads, costs = optimize(weight, X, y, num_iterations, learning_rate, print_cost = True)\n",
        "    weight = parameters[\"weight\"]\n",
        "    #b = parameters[\"b\"]\n",
        "    y_prediction_test = predict(weight, X_test)\n",
        "    y_prediction_train = predict(weight, X_train)\n",
        "    \n",
        "    print('train accuracy: {}'.format(100 - np.mean(np.abs(y_prediction_train - y_train)) * 100))\n",
        "    print('test accuracy: {}'.format(\"test accuracy: {} %\".format(100 - np.mean(np.abs(y_prediction_test - y_test_data)) * 100)))\n",
        "    \n",
        "    d = {\"costs\": costs,\n",
        "         \"y_prediction_test\": y_prediction_test, \n",
        "         \"y_prediction_train\" : y_prediction_train, \n",
        "         \"weight\" : weight, \n",
        "         #\"b\" : b,\n",
        "         \"learning_rate\" : learning_rate,\n",
        "         \"num_iterations\": num_iterations}\n",
        "    print(\"weights after learning\")\n",
        "    print(weight)\n",
        "    return d"
      ]
    },
    {
      "cell_type": "code",
      "execution_count": null,
      "metadata": {
        "_uuid": "d4b12ecd2fa918074a06fd359f49c57327f35d05",
        "colab": {
          "base_uri": "https://localhost:8080/",
          "height": 657
        },
        "id": "Cs5xOJcv5JlY",
        "outputId": "4e30e0f0-3723-4517-c775-fc433d26efa9"
      },
      "outputs": [
        {
          "name": "stdout",
          "output_type": "stream",
          "text": [
            "cost after iteration 0: 0.6931471805599452\n",
            "cost after iteration 1000: 0.0061184007534884595\n",
            "cost after iteration 2000: 0.0030352323027256333\n",
            "cost after iteration 3000: 0.002017122489978118\n",
            "cost after iteration 4000: 0.0015102161982267436\n",
            "cost after iteration 5000: 0.0012068289962841746\n",
            "cost after iteration 6000: 0.001004907422540986\n",
            "cost after iteration 7000: 0.0008608509292005229\n",
            "cost after iteration 8000: 0.0007529070993802162\n",
            "cost after iteration 9000: 0.0006690111294709356\n"
          ]
        },
        {
          "data": {
            "image/png": "[encoded data removed]",
            "text/plain": [
              "<Figure size 432x288 with 1 Axes>"
            ]
          },
          "metadata": {
            "needs_background": "light"
          },
          "output_type": "display_data"
        },
        {
          "name": "stdout",
          "output_type": "stream",
          "text": [
            "train accuracy: 100.0\n",
            "test accuracy: test accuracy: spam or ham    66.666667\n",
            "dtype: float64 %\n",
            "weights after learning\n",
            "[[-2.73054510e-15]\n",
            " [-1.95225961e-15]\n",
            " [ 7.41506269e+00]\n",
            " [ 1.05647370e-15]\n",
            " [-7.41506269e+00]\n",
            " [ 7.41506269e+00]]\n"
          ]
        }
      ],
      "source": [
        "d = model(X , X_test_data, y , y_test_data, num_iterations = 10000, learning_rate = 0.5, print_cost = True)"
      ]
    },
    {
      "cell_type": "code",
      "execution_count": null,
      "metadata": {
        "_uuid": "f86efb6c7335f51797f89346b54165cf220eee03",
        "colab": {
          "base_uri": "https://localhost:8080/",
          "height": 237
        },
        "id": "cx9OE7105JlZ",
        "outputId": "23bb7ba0-1f67-4c72-a5c3-77d3ec12b113"
      },
      "outputs": [
        {
          "data": {
            "text/html": [
              "\n",
              "  <div id=\"df-33eb0997-f8e6-493f-a6de-d827f7030f4a\">\n",
              "    <div class=\"colab-df-container\">\n",
              "      <div>\n",
              "<style scoped>\n",
              "    .dataframe tbody tr th:only-of-type {\n",
              "        vertical-align: middle;\n",
              "    }\n",
              "\n",
              "    .dataframe tbody tr th {\n",
              "        vertical-align: top;\n",
              "    }\n",
              "\n",
              "    .dataframe thead th {\n",
              "        text-align: right;\n",
              "    }\n",
              "</style>\n",
              "<table border=\"1\" class=\"dataframe\">\n",
              "  <thead>\n",
              "    <tr style=\"text-align: right;\">\n",
              "      <th></th>\n",
              "      <th>x0</th>\n",
              "      <th>x1</th>\n",
              "      <th>x2</th>\n",
              "      <th>x3</th>\n",
              "      <th>x4</th>\n",
              "      <th>x5</th>\n",
              "      <th>class</th>\n",
              "    </tr>\n",
              "  </thead>\n",
              "  <tbody>\n",
              "    <tr>\n",
              "      <th>0</th>\n",
              "      <td>1</td>\n",
              "      <td>1</td>\n",
              "      <td>1</td>\n",
              "      <td>0</td>\n",
              "      <td>1</td>\n",
              "      <td>1</td>\n",
              "      <td>1</td>\n",
              "    </tr>\n",
              "    <tr>\n",
              "      <th>1</th>\n",
              "      <td>1</td>\n",
              "      <td>0</td>\n",
              "      <td>0</td>\n",
              "      <td>1</td>\n",
              "      <td>1</td>\n",
              "      <td>0</td>\n",
              "      <td>0</td>\n",
              "    </tr>\n",
              "    <tr>\n",
              "      <th>2</th>\n",
              "      <td>1</td>\n",
              "      <td>0</td>\n",
              "      <td>1</td>\n",
              "      <td>1</td>\n",
              "      <td>0</td>\n",
              "      <td>0</td>\n",
              "      <td>1</td>\n",
              "    </tr>\n",
              "    <tr>\n",
              "      <th>3</th>\n",
              "      <td>1</td>\n",
              "      <td>1</td>\n",
              "      <td>0</td>\n",
              "      <td>0</td>\n",
              "      <td>1</td>\n",
              "      <td>0</td>\n",
              "      <td>0</td>\n",
              "    </tr>\n",
              "    <tr>\n",
              "      <th>4</th>\n",
              "      <td>1</td>\n",
              "      <td>1</td>\n",
              "      <td>0</td>\n",
              "      <td>1</td>\n",
              "      <td>0</td>\n",
              "      <td>1</td>\n",
              "      <td>1</td>\n",
              "    </tr>\n",
              "    <tr>\n",
              "      <th>5</th>\n",
              "      <td>1</td>\n",
              "      <td>1</td>\n",
              "      <td>0</td>\n",
              "      <td>1</td>\n",
              "      <td>1</td>\n",
              "      <td>0</td>\n",
              "      <td>0</td>\n",
              "    </tr>\n",
              "  </tbody>\n",
              "</table>\n",
              "</div>\n",
              "      <button class=\"colab-df-convert\" onclick=\"convertToInteractive('df-33eb0997-f8e6-493f-a6de-d827f7030f4a')\"\n",
              "              title=\"Convert this dataframe to an interactive table.\"\n",
              "              style=\"display:none;\">\n",
              "        \n",
              "  <svg xmlns=\"http://www.w3.org/2000/svg\" height=\"24px\"viewBox=\"0 0 24 24\"\n",
              "       width=\"24px\">\n",
              "    <path d=\"M0 0h24v24H0V0z\" fill=\"none\"/>\n",
              "    <path d=\"M18.56 5.44l.94 2.06.94-2.06 2.06-.94-2.06-.94-.94-2.06-.94 2.06-2.06.94zm-11 1L8.5 8.5l.94-2.06 2.06-.94-2.06-.94L8.5 2.5l-.94 2.06-2.06.94zm10 10l.94 2.06.94-2.06 2.06-.94-2.06-.94-.94-2.06-.94 2.06-2.06.94z\"/><path d=\"M17.41 7.96l-1.37-1.37c-.4-.4-.92-.59-1.43-.59-.52 0-1.04.2-1.43.59L10.3 9.45l-7.72 7.72c-.78.78-.78 2.05 0 2.83L4 21.41c.39.39.9.59 1.41.59.51 0 1.02-.2 1.41-.59l7.78-7.78 2.81-2.81c.8-.78.8-2.07 0-2.86zM5.41 20L4 18.59l7.72-7.72 1.47 1.35L5.41 20z\"/>\n",
              "  </svg>\n",
              "      </button>\n",
              "      \n",
              "  <style>\n",
              "    .colab-df-container {\n",
              "      display:flex;\n",
              "      flex-wrap:wrap;\n",
              "      gap: 12px;\n",
              "    }\n",
              "\n",
              "    .colab-df-convert {\n",
              "      background-color: #E8F0FE;\n",
              "      border: none;\n",
              "      border-radius: 50%;\n",
              "      cursor: pointer;\n",
              "      display: none;\n",
              "      fill: #1967D2;\n",
              "      height: 32px;\n",
              "      padding: 0 0 0 0;\n",
              "      width: 32px;\n",
              "    }\n",
              "\n",
              "    .colab-df-convert:hover {\n",
              "      background-color: #E2EBFA;\n",
              "      box-shadow: 0px 1px 2px rgba(60, 64, 67, 0.3), 0px 1px 3px 1px rgba(60, 64, 67, 0.15);\n",
              "      fill: #174EA6;\n",
              "    }\n",
              "\n",
              "    [theme=dark] .colab-df-convert {\n",
              "      background-color: #3B4455;\n",
              "      fill: #D2E3FC;\n",
              "    }\n",
              "\n",
              "    [theme=dark] .colab-df-convert:hover {\n",
              "      background-color: #434B5C;\n",
              "      box-shadow: 0px 1px 3px 1px rgba(0, 0, 0, 0.15);\n",
              "      filter: drop-shadow(0px 1px 2px rgba(0, 0, 0, 0.3));\n",
              "      fill: #FFFFFF;\n",
              "    }\n",
              "  </style>\n",
              "\n",
              "      <script>\n",
              "        const buttonEl =\n",
              "          document.querySelector('#df-33eb0997-f8e6-493f-a6de-d827f7030f4a button.colab-df-convert');\n",
              "        buttonEl.style.display =\n",
              "          google.colab.kernel.accessAllowed ? 'block' : 'none';\n",
              "\n",
              "        async function convertToInteractive(key) {\n",
              "          const element = document.querySelector('#df-33eb0997-f8e6-493f-a6de-d827f7030f4a');\n",
              "          const dataTable =\n",
              "            await google.colab.kernel.invokeFunction('convertToInteractive',\n",
              "                                                     [key], {});\n",
              "          if (!dataTable) return;\n",
              "\n",
              "          const docLinkHtml = 'Like what you see? Visit the ' +\n",
              "            '<a target=\"_blank\" href=https://colab.research.google.com/notebooks/data_table.ipynb>data table notebook</a>'\n",
              "            + ' to learn more about interactive tables.';\n",
              "          element.innerHTML = '';\n",
              "          dataTable['output_type'] = 'display_data';\n",
              "          await google.colab.output.renderOutput(dataTable, element);\n",
              "          const docLink = document.createElement('div');\n",
              "          docLink.innerHTML = docLinkHtml;\n",
              "          element.appendChild(docLink);\n",
              "        }\n",
              "      </script>\n",
              "    </div>\n",
              "  </div>\n",
              "  "
            ],
            "text/plain": [
              "   x0  x1  x2  x3  x4  x5  class\n",
              "0   1   1   1   0   1   1      1\n",
              "1   1   0   0   1   1   0      0\n",
              "2   1   0   1   1   0   0      1\n",
              "3   1   1   0   0   1   0      0\n",
              "4   1   1   0   1   0   1      1\n",
              "5   1   1   0   1   1   0      0"
            ]
          },
          "execution_count": 18,
          "metadata": {},
          "output_type": "execute_result"
        }
      ],
      "source": [
        "df"
      ]
    },
    {
      "cell_type": "code",
      "execution_count": null,
      "metadata": {
        "_uuid": "2ade3524806d53f6716fcffe98748eb92de24889",
        "id": "S4vAZsgB5JlZ"
      },
      "outputs": [],
      "source": [
        "# xpred = xnewtest\n",
        "# ypred = ynewtest\n",
        "# i = 2       #play around with this number to access each row in the training and test set and check the accuracy\n",
        "# xnewpred = X_test_data.iloc[i]\n",
        "# ynewpred = y_test_data.iloc[i]\n",
        "# print('The input values of the features are:')\n",
        "# print(xnewpred)\n",
        "# print('The actual output whether a email is spam or ham:')\n",
        "# print(float(ynewpred))\n",
        "# xnewpred = xnewpred[:, np.newaxis]\n",
        "# xnewpred = xnewpred.T\n",
        "# ynew = predict(d[\"weight\"], xnewpred)\n",
        "# print('The output of the predicted value is:')\n",
        "# print(ynew[0][0])\n"
      ]
    },
    {
      "cell_type": "markdown",
      "metadata": {
        "id": "sSUHwipAGcEl"
      },
      "source": [
        "### Q2\n",
        "\n"
      ]
    },
    {
      "cell_type": "code",
      "execution_count": null,
      "metadata": {
        "_uuid": "799edc8a8c9600f688da29eb8b8ed070e2002360",
        "colab": {
          "base_uri": "https://localhost:8080/"
        },
        "id": "W9RNVH2k5Jla",
        "outputId": "38a50780-baaa-42c7-a572-241ed2b35c89"
      },
      "outputs": [
        {
          "name": "stderr",
          "output_type": "stream",
          "text": [
            "/usr/local/lib/python3.7/dist-packages/sklearn/utils/validation.py:993: DataConversionWarning: A column-vector y was passed when a 1d array was expected. Please change the shape of y to (n_samples, ), for example using ravel().\n",
            "  y = column_or_1d(y, warn=True)\n"
          ]
        }
      ],
      "source": [
        "from sklearn.linear_model import LogisticRegression\n",
        "logreg = LogisticRegression()\n",
        "logreg.fit(X, y)\n",
        "y_pred = logreg.predict(X_test_data)\n",
        " \n"
      ]
    },
    {
      "cell_type": "code",
      "execution_count": null,
      "metadata": {
        "colab": {
          "base_uri": "https://localhost:8080/"
        },
        "id": "h7Sqdp0GFakQ",
        "outputId": "370faa3f-243b-4aaf-d07a-65dd6c153f00"
      },
      "outputs": [
        {
          "name": "stdout",
          "output_type": "stream",
          "text": [
            "\n",
            "Accuracy of the model in via sklearn model is =  0.6666666666666666\n"
          ]
        }
      ],
      "source": [
        "# Evaluation and accuracy\n",
        "from sklearn.metrics import accuracy_score #works\n",
        "print('')\n",
        "print('Accuracy of the model in via sklearn model is = ', accuracy_score(y_test_data, y_pred))"
      ]
    },
    {
      "cell_type": "markdown",
      "metadata": {
        "id": "4aN8v3V_GBGR"
      },
      "source": [
        "#### Q3\n"
      ]
    },
    {
      "cell_type": "code",
      "execution_count": null,
      "metadata": {
        "id": "wbShdm7WGjid"
      },
      "outputs": [],
      "source": [
        "import pandas as pd\n",
        "import pylab as pl\n",
        "import numpy as np\n",
        "import scipy.optimize as opt\n",
        "import statsmodels.api as sm\n",
        "from sklearn import preprocessing\n",
        "'exec(% matplotlib inline)'\n",
        "import matplotlib.pyplot as plt\n",
        "import matplotlib.mlab as mlab\n",
        "import seaborn as sn"
      ]
    },
    {
      "cell_type": "code",
      "execution_count": null,
      "metadata": {
        "colab": {
          "base_uri": "https://localhost:8080/"
        },
        "id": "hTbo6kAEHGBg",
        "outputId": "046aa3e8-5847-4b41-f517-848c7e1ea90f"
      },
      "outputs": [
        {
          "name": "stdout",
          "output_type": "stream",
          "text": [
            "   Sex_male  age  education  currentSmoker  cigsPerDay  BPMeds  \\\n",
            "0         1   39        4.0              0         0.0     0.0   \n",
            "1         0   46        2.0              0         0.0     0.0   \n",
            "2         1   48        1.0              1        20.0     0.0   \n",
            "3         0   61        3.0              1        30.0     0.0   \n",
            "4         0   46        3.0              1        23.0     0.0   \n",
            "\n",
            "   prevalentStroke  prevalentHyp  diabetes  totChol  sysBP  diaBP    BMI  \\\n",
            "0                0             0         0    195.0  106.0   70.0  26.97   \n",
            "1                0             0         0    250.0  121.0   81.0  28.73   \n",
            "2                0             0         0    245.0  127.5   80.0  25.34   \n",
            "3                0             1         0    225.0  150.0   95.0  28.58   \n",
            "4                0             0         0    285.0  130.0   84.0  23.10   \n",
            "\n",
            "   heartRate  glucose  TenYearCHD  \n",
            "0       80.0     77.0           0  \n",
            "1       95.0     76.0           0  \n",
            "2       75.0     70.0           0  \n",
            "3       65.0    103.0           1  \n",
            "4       85.0     85.0           0   (3656, 16)\n",
            "0    3099\n",
            "1     557\n",
            "Name: TenYearCHD, dtype: int64\n"
          ]
        }
      ],
      "source": [
        "# dataset\n",
        "disease_df = pd.read_csv(\"heart.csv\")\n",
        "disease_df.rename(columns ={'male':'Sex_male'}, inplace = True)\n",
        "\n",
        "# removing NaN / NULL values\n",
        "disease_df.dropna(axis = 0, inplace = True)\n",
        "print(disease_df.head(), disease_df.shape)\n",
        "print(disease_df.TenYearCHD.value_counts())\n"
      ]
    },
    {
      "cell_type": "code",
      "execution_count": null,
      "metadata": {
        "id": "-8akP8mFHh1d"
      },
      "outputs": [],
      "source": [
        "disease_df.drop(['education'], inplace = True, axis = 1)"
      ]
    },
    {
      "cell_type": "code",
      "execution_count": null,
      "metadata": {
        "colab": {
          "base_uri": "https://localhost:8080/",
          "height": 334
        },
        "id": "uKulEOUMHjOl",
        "outputId": "5ca9d713-f940-47dc-fdbf-fc86b48deecb"
      },
      "outputs": [
        {
          "data": {
            "image/png": "[encoded data removed]",
            "text/plain": [
              "<Figure size 504x360 with 1 Axes>"
            ]
          },
          "metadata": {
            "needs_background": "light"
          },
          "output_type": "display_data"
        }
      ],
      "source": [
        "# counting no. of patients affected with CHD\n",
        "plt.figure(figsize = (7, 5))\n",
        "sn.countplot(x ='TenYearCHD', data = disease_df,\n",
        "             palette =\"BuGn_r\" )\n",
        "plt.show()"
      ]
    },
    {
      "cell_type": "code",
      "execution_count": null,
      "metadata": {
        "colab": {
          "base_uri": "https://localhost:8080/",
          "height": 265
        },
        "id": "rOP7OhayS_4r",
        "outputId": "18e1212d-483c-4459-a017-d9d155c20d1c"
      },
      "outputs": [
        {
          "data": {
            "image/png": "[encoded data removed]",
            "text/plain": [
              "<Figure size 432x288 with 1 Axes>"
            ]
          },
          "metadata": {
            "needs_background": "light"
          },
          "output_type": "display_data"
        }
      ],
      "source": [
        "laste = disease_df['TenYearCHD'].plot()\n",
        "plt.show(laste)"
      ]
    },
    {
      "cell_type": "code",
      "execution_count": null,
      "metadata": {
        "colab": {
          "base_uri": "https://localhost:8080/"
        },
        "id": "8k8hWVegTDPc",
        "outputId": "e3ade9a2-4fe6-41f0-9ca9-cf39ed3ea147"
      },
      "outputs": [
        {
          "name": "stdout",
          "output_type": "stream",
          "text": [
            "Train set: (2924, 6) (2924,)\n",
            "Test set: (732, 6) (732,)\n"
          ]
        }
      ],
      "source": [
        "X = np.asarray(disease_df[['age', 'Sex_male', 'cigsPerDay',\n",
        "\t\t\t\t\t\t'totChol', 'sysBP', 'glucose']])\n",
        "y = np.asarray(disease_df['TenYearCHD'])\n",
        "\n",
        "# normalization of the dataset\n",
        "X = preprocessing.StandardScaler().fit(X).transform(X)\n",
        "\n",
        "# Train-and-Test -Split\n",
        "from sklearn.model_selection import train_test_split\n",
        "X_train, X_test, y_train, y_test = train_test_split(\n",
        "\t\tX, y, test_size = 0.2, random_state = 4)\n",
        "print ('Train set:', X_train.shape, y_train.shape)\n",
        "print ('Test set:', X_test.shape, y_test.shape)\n",
        "\n"
      ]
    },
    {
      "cell_type": "code",
      "execution_count": null,
      "metadata": {
        "colab": {
          "base_uri": "https://localhost:8080/"
        },
        "id": "DnNLrDHdTTIk",
        "outputId": "2af30515-a24a-4c7b-bb53-de921e2c8ac3"
      },
      "outputs": [
        {
          "name": "stdout",
          "output_type": "stream",
          "text": [
            "\n",
            "Accuracy of the model in finding heart disease is =  0.837431693989071\n"
          ]
        }
      ],
      "source": [
        "from sklearn.linear_model import LogisticRegression\n",
        "logreg = LogisticRegression()\n",
        "logreg.fit(X_train, y_train)\n",
        "y_pred = logreg.predict(X_test)\n",
        "\n",
        "# Evaluation and accuracy\n",
        "from sklearn.metrics import accuracy_score #works\n",
        "print('')\n",
        "print('Accuracy of the model in finding heart disease is = ',accuracy_score(y_test, y_pred))\n"
      ]
    },
    {
      "cell_type": "code",
      "execution_count": null,
      "metadata": {
        "colab": {
          "base_uri": "https://localhost:8080/",
          "height": 502
        },
        "id": "1lxrfQ66TrsV",
        "outputId": "53b82fac-3c66-4660-9fc9-2397926f9895"
      },
      "outputs": [
        {
          "data": {
            "image/png": "[encoded data removed]",
            "text/plain": [
              "<Figure size 576x360 with 2 Axes>"
            ]
          },
          "metadata": {
            "needs_background": "light"
          },
          "output_type": "display_data"
        },
        {
          "name": "stdout",
          "output_type": "stream",
          "text": [
            "The details for confusion matrix is =\n",
            "              precision    recall  f1-score   support\n",
            "\n",
            "           0       0.84      0.99      0.91       612\n",
            "           1       0.55      0.05      0.09       120\n",
            "\n",
            "    accuracy                           0.84       732\n",
            "   macro avg       0.69      0.52      0.50       732\n",
            "weighted avg       0.79      0.84      0.78       732\n",
            "\n"
          ]
        }
      ],
      "source": [
        "# Confusion matrix\n",
        "from sklearn.metrics import confusion_matrix, classification_report\n",
        " \n",
        "cm = confusion_matrix(y_test, y_pred)\n",
        "conf_matrix = pd.DataFrame(data = cm,\n",
        "                           columns = ['Predicted:0', 'Predicted:1'],\n",
        "                           index =['Actual:0', 'Actual:1'])\n",
        "plt.figure(figsize = (8, 5))\n",
        "sn.heatmap(conf_matrix, annot = True, fmt = 'd', cmap = \"Greens\")\n",
        "plt.show()\n",
        " \n",
        "print('The details for confusion matrix is =')\n",
        "print (classification_report(y_test, y_pred))"
      ]
    }
  ],
  "metadata": {
    "colab": {
      "collapsed_sections": [],
      "name": "20BCE1475_LAB-4.ipynb",
      "provenance": []
    },
    "kernelspec": {
      "display_name": "Python 3.9.0 64-bit",
      "language": "python",
      "name": "python3"
    },
    "language_info": {
      "codemirror_mode": {
        "name": "ipython",
        "version": 3
      },
      "file_extension": ".py",
      "mimetype": "text/x-python",
      "name": "python",
      "nbconvert_exporter": "python",
      "pygments_lexer": "ipython3",
      "version": "3.9.0"
    },
    "vscode": {
      "interpreter": {
        "hash": "8bd2466231e41ed14114f2b409d9719ddb015392667fe5003083bc13ae641016"
      }
    }
  },
  "nbformat": 4,
  "nbformat_minor": 0
}
